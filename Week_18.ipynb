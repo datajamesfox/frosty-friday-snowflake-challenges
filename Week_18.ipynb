{
 "cells": [
  {
   "cell_type": "code",
   "execution_count": null,
   "metadata": {},
   "outputs": [],
   "source": [
    "from snowflake.snowpark.session import Session\n",
    "from snowflake.snowpark.types import IntegerType, FloatType\n",
    "from snowflake.snowpark.functions import avg, sum, col, udf, call_udf, call_builtin, year\n",
    "import pandas as pd\n",
    "from sklearn.linear_model import LinearRegression\n",
    "import config\n",
    "\n",
    "# Session\n",
    "connection_parameters = {\n",
    "   \"account\": config.account,\n",
    "   \"user\": config.user,\n",
    "   \"password\": config.password,\n",
    "   \"warehouse\": config.warehouse,\n",
    "   \"role\": config.role,\n",
    "   \"database\": config.database,\n",
    "   \"schema\": config.schema\n",
    "}\n",
    "session = Session.builder.configs(connection_parameters).create()\n",
    "\n",
    "# test if we have a connection\n",
    "session.sql(\"select current_warehouse() wh, current_database() db, current_schema() schema, current_version() v\").show()"
   ]
  },
  {
   "cell_type": "code",
   "execution_count": null,
   "metadata": {},
   "outputs": [],
   "source": [
    "# Now use Snowpark dataframe\n",
    "df = (session.table(\"ECONOMY_DATA_ATLAS.ECONOMY.BEANIPA\") \n",
    "                            .filter(col('Table Name') == 'Price Indexes For Personal Consumption Expenditures By Major Type Of Product') \n",
    "                            .filter(col('Indicator Name') == 'Personal consumption expenditures (PCE)')\n",
    "                            .filter(col('\"Frequency\"') == 'A')\n",
    "                            .filter(col('\"Date\"') >= '1972-01-01'))\n",
    "df_agg = df.select(year(col('\"Date\"')).alias('\"Year\"'), col('\"Value\"').alias('PCE') ).to_pandas()\n",
    "df_agg"
   ]
  },
  {
   "cell_type": "code",
   "execution_count": null,
   "metadata": {},
   "outputs": [],
   "source": [
    "# train model linear regression\n",
    "x = df_agg[\"Year\"].to_numpy().reshape(-1,1)\n",
    "y = df_agg[\"PCE\"].to_numpy()\n",
    "\n",
    "model = LinearRegression().fit(x, y)\n",
    "\n",
    "predictYear = 2021\n",
    "pce_pred = model.predict([[predictYear]])"
   ]
  },
  {
   "cell_type": "code",
   "execution_count": null,
   "metadata": {},
   "outputs": [],
   "source": [
    "# create udf\n",
    "\n",
    "def predict_pce(year: int) -> float:\n",
    "    return model.predict([[year]])\n",
    "\n",
    "predict_pce(2021)\n",
    "\n",
    "predict_pce_udf = udf(lambda x: predict_pce(x), return_type=FloatType(), input_types=[IntegerType()], packages= [\"pandas\",\"scikit-learn\"], name = 'predict_pce_udf')"
   ]
  },
  {
   "cell_type": "code",
   "execution_count": null,
   "metadata": {},
   "outputs": [],
   "source": [
    "session.sql(\"select predict_pce_udf(2024)\").show()"
   ]
  }
 ],
 "metadata": {
  "kernelspec": {
   "display_name": "Frosty Friday Snowpark",
   "language": "python",
   "name": "python3"
  },
  "language_info": {
   "codemirror_mode": {
    "name": "ipython",
    "version": 3
   },
   "file_extension": ".py",
   "mimetype": "text/x-python",
   "name": "python",
   "nbconvert_exporter": "python",
   "pygments_lexer": "ipython3",
   "version": "3.8.10"
  },
  "orig_nbformat": 4
 },
 "nbformat": 4,
 "nbformat_minor": 2
}
